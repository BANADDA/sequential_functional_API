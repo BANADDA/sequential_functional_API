{
  "nbformat": 4,
  "nbformat_minor": 0,
  "metadata": {
    "colab": {
      "name": "Sequential_API.ipynb",
      "provenance": [],
      "authorship_tag": "ABX9TyOm9xZmIeEbqeYs50Oj7FhC",
      "include_colab_link": true
    },
    "kernelspec": {
      "name": "python3",
      "display_name": "Python 3"
    },
    "language_info": {
      "name": "python"
    }
  },
  "cells": [
    {
      "cell_type": "markdown",
      "metadata": {
        "id": "view-in-github",
        "colab_type": "text"
      },
      "source": [
        "<a href=\"https://colab.research.google.com/github/BANADDA/sequential_functional_API/blob/main/Sequential_API.ipynb\" target=\"_parent\"><img src=\"https://colab.research.google.com/assets/colab-badge.svg\" alt=\"Open In Colab\"/></a>"
      ]
    },
    {
      "cell_type": "code",
      "execution_count": 5,
      "metadata": {
        "id": "f6p_lPdP2yvz"
      },
      "outputs": [],
      "source": [
        "import tensorflow as tf \n",
        "from tensorflow import keras\n",
        "from tensorflow.keras import layers\n",
        "from tensorflow.keras.layers import Dense\n",
        "from keras.models import Sequential\n",
        "from tensorflow.keras.datasets import mnist"
      ]
    },
    {
      "cell_type": "code",
      "source": [
        "(x_train, y_train), (x_test, y_test) = mnist.load_data()"
      ],
      "metadata": {
        "colab": {
          "base_uri": "https://localhost:8080/"
        },
        "id": "UEoVWfCe25EP",
        "outputId": "f7d9b920-96c0-4f0e-b0f1-937712f16ac3"
      },
      "execution_count": 2,
      "outputs": [
        {
          "output_type": "stream",
          "name": "stdout",
          "text": [
            "Downloading data from https://storage.googleapis.com/tensorflow/tf-keras-datasets/mnist.npz\n",
            "11493376/11490434 [==============================] - 0s 0us/step\n",
            "11501568/11490434 [==============================] - 0s 0us/step\n"
          ]
        }
      ]
    },
    {
      "cell_type": "code",
      "source": [
        "print(x_train.shape)\n",
        "print(y_train.shape)"
      ],
      "metadata": {
        "colab": {
          "base_uri": "https://localhost:8080/"
        },
        "id": "EyfDUNVO7Kd5",
        "outputId": "44bfb4b0-be56-4bc0-d756-3c2d066b3013"
      },
      "execution_count": 3,
      "outputs": [
        {
          "output_type": "stream",
          "name": "stdout",
          "text": [
            "(60000, 28, 28)\n",
            "(60000,)\n"
          ]
        }
      ]
    },
    {
      "cell_type": "code",
      "source": [
        "x_train = x_train.reshape(-1, 28*28).astype(\"float32\") / 255.0\n",
        "x_test = x_test.reshape(-1, 28*28).astype(\"float32\")  / 255.0"
      ],
      "metadata": {
        "id": "llik5nuH7Y-z"
      },
      "execution_count": 4,
      "outputs": []
    },
    {
      "cell_type": "markdown",
      "source": [
        "**Sequential API**"
      ],
      "metadata": {
        "id": "eqpZrkit7gEv"
      }
    },
    {
      "cell_type": "code",
      "source": [
        "model = keras.Sequential(\n",
        "    [\n",
        "     Dense(512, activation='relu'),\n",
        "     Dense(256, activation='relu'),\n",
        "     Dense(10),\n",
        "    ]\n",
        ")"
      ],
      "metadata": {
        "id": "Gqy3R9gQ7cPm"
      },
      "execution_count": 23,
      "outputs": []
    },
    {
      "cell_type": "code",
      "source": [
        "model.compile(\n",
        "    loss = keras.losses.SparseCategoricalCrossentropy(from_logits=False), #Because we didnt use softmax activation\n",
        "    optimizer = keras.optimizers.Adam(learning_rate=0.001),\n",
        "    metrics = [\"accuracy\"],\n",
        ")"
      ],
      "metadata": {
        "id": "QftoNuAPAZWp"
      },
      "execution_count": 24,
      "outputs": []
    },
    {
      "cell_type": "code",
      "source": [
        "model.fit(x_train, y_train, batch_size=32, epochs=5, verbose=2)\n",
        "model.evaluate(x_test, y_test, batch_size=32, verbose=2)"
      ],
      "metadata": {
        "colab": {
          "base_uri": "https://localhost:8080/"
        },
        "id": "IzN-Eh_SAbzU",
        "outputId": "0a2c76f1-ef4a-4b05-98bc-5b1a3187bb39"
      },
      "execution_count": 25,
      "outputs": [
        {
          "output_type": "stream",
          "name": "stdout",
          "text": [
            "Epoch 1/5\n",
            "1875/1875 - 9s - loss: 2.3277 - accuracy: 0.2090 - 9s/epoch - 5ms/step\n",
            "Epoch 2/5\n",
            "1875/1875 - 10s - loss: 2.3025 - accuracy: 0.2049 - 10s/epoch - 5ms/step\n",
            "Epoch 3/5\n",
            "1875/1875 - 10s - loss: 2.3048 - accuracy: 0.1592 - 10s/epoch - 5ms/step\n",
            "Epoch 4/5\n",
            "1875/1875 - 9s - loss: 2.3026 - accuracy: 0.1121 - 9s/epoch - 5ms/step\n",
            "Epoch 5/5\n",
            "1875/1875 - 10s - loss: 2.3026 - accuracy: 0.1121 - 10s/epoch - 5ms/step\n",
            "313/313 - 1s - loss: 2.3026 - accuracy: 0.1089 - 858ms/epoch - 3ms/step\n"
          ]
        },
        {
          "output_type": "execute_result",
          "data": {
            "text/plain": [
              "[2.30259108543396, 0.10890000313520432]"
            ]
          },
          "metadata": {},
          "execution_count": 25
        }
      ]
    },
    {
      "cell_type": "markdown",
      "source": [
        "**Functional API**"
      ],
      "metadata": {
        "id": "-vYq7FlI-1c7"
      }
    },
    {
      "cell_type": "code",
      "source": [
        "inputs = keras.Input(shape=(784,))\n",
        "x = layers.Dense(512, activation=\"relu\")(inputs)\n",
        "x = layers.Dense(256, activation=\"relu\")(x)\n",
        "outputs = layers.Dense(10, activation=\"softmax\")(x)\n",
        "\n",
        "model = keras.Model(inputs=inputs, outputs=outputs)"
      ],
      "metadata": {
        "id": "5JAJ2fGN803q"
      },
      "execution_count": 31,
      "outputs": []
    },
    {
      "cell_type": "code",
      "source": [
        "model.compile(\n",
        "    loss = keras.losses.SparseCategoricalCrossentropy(from_logits=False),\n",
        "    optimizer = keras.optimizers.Adam(learning_rate=0.001),\n",
        "    metrics = [\"accuracy\"],\n",
        ")"
      ],
      "metadata": {
        "id": "1HVE4kad_g42"
      },
      "execution_count": 32,
      "outputs": []
    },
    {
      "cell_type": "code",
      "source": [
        "model.fit(x_train, y_train, batch_size=32, epochs=5, verbose=2)\n",
        "model.evaluate(x_test, y_test, batch_size=32, verbose=2)"
      ],
      "metadata": {
        "colab": {
          "base_uri": "https://localhost:8080/"
        },
        "id": "4pCiqkr4_kkx",
        "outputId": "ab9efaba-83ae-4013-996c-4eea2fb99c21"
      },
      "execution_count": 33,
      "outputs": [
        {
          "output_type": "stream",
          "name": "stdout",
          "text": [
            "Epoch 1/5\n",
            "1875/1875 - 10s - loss: 0.1902 - accuracy: 0.9420 - 10s/epoch - 5ms/step\n",
            "Epoch 2/5\n",
            "1875/1875 - 10s - loss: 0.0792 - accuracy: 0.9754 - 10s/epoch - 5ms/step\n",
            "Epoch 3/5\n",
            "1875/1875 - 10s - loss: 0.0544 - accuracy: 0.9824 - 10s/epoch - 5ms/step\n",
            "Epoch 4/5\n",
            "1875/1875 - 10s - loss: 0.0405 - accuracy: 0.9869 - 10s/epoch - 5ms/step\n",
            "Epoch 5/5\n",
            "1875/1875 - 10s - loss: 0.0319 - accuracy: 0.9898 - 10s/epoch - 5ms/step\n",
            "313/313 - 1s - loss: 0.0851 - accuracy: 0.9751 - 836ms/epoch - 3ms/step\n"
          ]
        },
        {
          "output_type": "execute_result",
          "data": {
            "text/plain": [
              "[0.08509339392185211, 0.9750999808311462]"
            ]
          },
          "metadata": {},
          "execution_count": 33
        }
      ]
    },
    {
      "cell_type": "code",
      "source": [
        ""
      ],
      "metadata": {
        "id": "NBLGdTY2_nG6"
      },
      "execution_count": null,
      "outputs": []
    }
  ]
}